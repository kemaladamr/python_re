{
  "nbformat": 4,
  "nbformat_minor": 0,
  "metadata": {
    "colab": {
      "name": "RE_with_Python.ipynb",
      "provenance": [],
      "collapsed_sections": [],
      "authorship_tag": "ABX9TyNDQ3yecWUhUriOT8I3SDVF",
      "include_colab_link": true
    },
    "kernelspec": {
      "name": "python3",
      "display_name": "Python 3"
    },
    "language_info": {
      "name": "python"
    }
  },
  "cells": [
    {
      "cell_type": "markdown",
      "metadata": {
        "id": "view-in-github",
        "colab_type": "text"
      },
      "source": [
        "<a href=\"https://colab.research.google.com/github/kemaladamr/python_re/blob/main/RE_with_Python.ipynb\" target=\"_parent\"><img src=\"https://colab.research.google.com/assets/colab-badge.svg\" alt=\"Open In Colab\"/></a>"
      ]
    },
    {
      "cell_type": "markdown",
      "source": [
        ""
      ],
      "metadata": {
        "id": "2aZiPird1FJH"
      }
    },
    {
      "cell_type": "code",
      "execution_count": 1,
      "metadata": {
        "id": "wWtLX8ZI0FB4"
      },
      "outputs": [],
      "source": [
        "import re"
      ]
    },
    {
      "cell_type": "code",
      "source": [
        "pattern = re.compile(r'\\bfoo\\b')"
      ],
      "metadata": {
        "id": "M7avGYmv0wFK"
      },
      "execution_count": 2,
      "outputs": []
    },
    {
      "cell_type": "code",
      "source": [
        "pattern.match(\"foo bar\")"
      ],
      "metadata": {
        "colab": {
          "base_uri": "https://localhost:8080/"
        },
        "id": "zdbNST5d01Fu",
        "outputId": "aa95d139-2359-4b81-afcb-3fb24b8c2ac4"
      },
      "execution_count": 3,
      "outputs": [
        {
          "output_type": "execute_result",
          "data": {
            "text/plain": [
              "<re.Match object; span=(0, 3), match='foo'>"
            ]
          },
          "metadata": {},
          "execution_count": 3
        }
      ]
    },
    {
      "cell_type": "markdown",
      "source": [
        "## Backslash in string literals"
      ],
      "metadata": {
        "id": "Nta_nT7i1HD_"
      }
    },
    {
      "cell_type": "code",
      "source": [
        "pattern = re.compile(\"\\\\\\\\\")\n",
        "pattern.match(\"\\\\author\")"
      ],
      "metadata": {
        "colab": {
          "base_uri": "https://localhost:8080/"
        },
        "id": "MBSb0t6905Sa",
        "outputId": "456be2e6-0893-4203-98db-d77f628cad87"
      },
      "execution_count": 4,
      "outputs": [
        {
          "output_type": "execute_result",
          "data": {
            "text/plain": [
              "<re.Match object; span=(0, 1), match='\\\\'>"
            ]
          },
          "metadata": {},
          "execution_count": 4
        }
      ]
    },
    {
      "cell_type": "code",
      "source": [
        "pattern = re.compile(r\"\\\\\")\n",
        "pattern.match(r\"\\author\")"
      ],
      "metadata": {
        "colab": {
          "base_uri": "https://localhost:8080/"
        },
        "id": "DAJHRE1_1Rff",
        "outputId": "38f382de-c270-4668-d7bf-9d4f6145c726"
      },
      "execution_count": 5,
      "outputs": [
        {
          "output_type": "execute_result",
          "data": {
            "text/plain": [
              "<re.Match object; span=(0, 1), match='\\\\'>"
            ]
          },
          "metadata": {},
          "execution_count": 5
        }
      ]
    },
    {
      "cell_type": "markdown",
      "source": [
        "## Building blocks for Python regex"
      ],
      "metadata": {
        "id": "Ekz1bB9111lj"
      }
    },
    {
      "cell_type": "code",
      "source": [
        "pattern = re.compile(r'fo+')"
      ],
      "metadata": {
        "id": "3EcfAFXu1u45"
      },
      "execution_count": 6,
      "outputs": []
    },
    {
      "cell_type": "code",
      "source": [
        "pattern = re.compile(r'<HTML>')\n",
        "pattern.match(\"<HTML>\")\n"
      ],
      "metadata": {
        "colab": {
          "base_uri": "https://localhost:8080/"
        },
        "id": "gKU-S5Jn19gV",
        "outputId": "dd11529e-6ae8-48ab-bfd6-78f7054a18d6"
      },
      "execution_count": 7,
      "outputs": [
        {
          "output_type": "execute_result",
          "data": {
            "text/plain": [
              "<re.Match object; span=(0, 6), match='<HTML>'>"
            ]
          },
          "metadata": {},
          "execution_count": 7
        }
      ]
    },
    {
      "cell_type": "code",
      "source": [
        "re.match(r'<HTML>', \"<HTML>\")"
      ],
      "metadata": {
        "colab": {
          "base_uri": "https://localhost:8080/"
        },
        "id": "NQ5XK9Na2GoY",
        "outputId": "863159d1-3c8b-45b1-de78-d323903f7f8f"
      },
      "execution_count": 8,
      "outputs": [
        {
          "output_type": "execute_result",
          "data": {
            "text/plain": [
              "<re.Match object; span=(0, 6), match='<HTML>'>"
            ]
          },
          "metadata": {},
          "execution_count": 8
        }
      ]
    },
    {
      "cell_type": "markdown",
      "source": [
        "### Searching"
      ],
      "metadata": {
        "id": "27pV7wqI2Y_N"
      }
    },
    {
      "cell_type": "code",
      "source": [
        "# match(string[, pos[, endpos]])\n",
        "pattern = re.compile(r'<HTML>')\n",
        "pattern.match(\"<HTML><head>\")"
      ],
      "metadata": {
        "colab": {
          "base_uri": "https://localhost:8080/"
        },
        "id": "8snQzYa02R_k",
        "outputId": "0b6c7bdd-2d89-4280-e840-f2594c7190e0"
      },
      "execution_count": 9,
      "outputs": [
        {
          "output_type": "execute_result",
          "data": {
            "text/plain": [
              "<re.Match object; span=(0, 6), match='<HTML>'>"
            ]
          },
          "metadata": {},
          "execution_count": 9
        }
      ]
    },
    {
      "cell_type": "code",
      "source": [
        "pattern.match(\" <HTML>\")"
      ],
      "metadata": {
        "id": "mn8f0xGv2oHr"
      },
      "execution_count": 10,
      "outputs": []
    },
    {
      "cell_type": "code",
      "source": [
        "pattern.search(\"    <HTML>\")"
      ],
      "metadata": {
        "colab": {
          "base_uri": "https://localhost:8080/"
        },
        "id": "78X89lme5A-p",
        "outputId": "80dee8ff-2a36-434b-919a-aa469c99a834"
      },
      "execution_count": 11,
      "outputs": [
        {
          "output_type": "execute_result",
          "data": {
            "text/plain": [
              "<re.Match object; span=(4, 10), match='<HTML>'>"
            ]
          },
          "metadata": {},
          "execution_count": 11
        }
      ]
    },
    {
      "cell_type": "code",
      "source": [
        "pattern = re.compile(r'<HTML>')\n",
        "pattern.match(\"     <HTML>\")"
      ],
      "metadata": {
        "id": "NR7ZAfu15PDf"
      },
      "execution_count": 12,
      "outputs": []
    },
    {
      "cell_type": "code",
      "source": [
        "pattern.match(\"     <HTML>\", 5)"
      ],
      "metadata": {
        "colab": {
          "base_uri": "https://localhost:8080/"
        },
        "id": "BFXhAWkH5c7X",
        "outputId": "54bac914-beb2-4d28-c7c0-2a1196330c0c"
      },
      "execution_count": 13,
      "outputs": [
        {
          "output_type": "execute_result",
          "data": {
            "text/plain": [
              "<re.Match object; span=(5, 11), match='<HTML>'>"
            ]
          },
          "metadata": {},
          "execution_count": 13
        }
      ]
    },
    {
      "cell_type": "code",
      "source": [
        "pattern = re.compile(r'^<HTML>')\n",
        "pattern.match(\"<HTML>\")"
      ],
      "metadata": {
        "colab": {
          "base_uri": "https://localhost:8080/"
        },
        "id": "FNYkZWuA5iDi",
        "outputId": "48908dc5-3448-4b72-9e04-230d01381930"
      },
      "execution_count": 14,
      "outputs": [
        {
          "output_type": "execute_result",
          "data": {
            "text/plain": [
              "<re.Match object; span=(0, 6), match='<HTML>'>"
            ]
          },
          "metadata": {},
          "execution_count": 14
        }
      ]
    },
    {
      "cell_type": "code",
      "source": [
        "pattern.match(\"     <HTML>\", 5)"
      ],
      "metadata": {
        "id": "yI43DABTKl5_"
      },
      "execution_count": 15,
      "outputs": []
    },
    {
      "cell_type": "code",
      "source": [
        "pattern.match(\"     <HTML>\"[5:])"
      ],
      "metadata": {
        "colab": {
          "base_uri": "https://localhost:8080/"
        },
        "id": "sST6qY8eK4s8",
        "outputId": "3deef69f-57df-46dd-feeb-f023d610ab78"
      },
      "execution_count": 16,
      "outputs": [
        {
          "output_type": "execute_result",
          "data": {
            "text/plain": [
              "<re.Match object; span=(0, 6), match='<HTML>'>"
            ]
          },
          "metadata": {},
          "execution_count": 16
        }
      ]
    },
    {
      "cell_type": "code",
      "source": [
        "pattern = re.compile(r'<HTML>')\n",
        "pattern.match(\"<HTML>\"[:5])"
      ],
      "metadata": {
        "id": "CIhZxO1uK-xx"
      },
      "execution_count": 17,
      "outputs": []
    },
    {
      "cell_type": "code",
      "source": [
        "pattern.match(\"<HTML>\", 0, 5)"
      ],
      "metadata": {
        "id": "w8zC-vp4Lmer"
      },
      "execution_count": 18,
      "outputs": []
    },
    {
      "cell_type": "code",
      "source": [
        "pattern = re.compile(r'<HTML>$')\n",
        "pattern.match(\"<HTML>   \", 0, 6)"
      ],
      "metadata": {
        "colab": {
          "base_uri": "https://localhost:8080/"
        },
        "id": "xnrrv-W6LsSb",
        "outputId": "ee7fbff5-a7ad-44f3-96a8-fd90da5bb06a"
      },
      "execution_count": 19,
      "outputs": [
        {
          "output_type": "execute_result",
          "data": {
            "text/plain": [
              "<re.Match object; span=(0, 6), match='<HTML>'>"
            ]
          },
          "metadata": {},
          "execution_count": 19
        }
      ]
    },
    {
      "cell_type": "code",
      "source": [
        "pattern.match(\"<HTML>   \"[:6])"
      ],
      "metadata": {
        "colab": {
          "base_uri": "https://localhost:8080/"
        },
        "id": "iRM800F4MDna",
        "outputId": "e212cd7d-d700-4d84-ecca-5d26ac0f2555"
      },
      "execution_count": 20,
      "outputs": [
        {
          "output_type": "execute_result",
          "data": {
            "text/plain": [
              "<re.Match object; span=(0, 6), match='<HTML>'>"
            ]
          },
          "metadata": {},
          "execution_count": 20
        }
      ]
    },
    {
      "cell_type": "code",
      "source": [
        "# search(string[, pos[, endpos]])\n",
        "pattern = re.compile(r\"world\")\n",
        "pattern.search(\"hello   world\")"
      ],
      "metadata": {
        "colab": {
          "base_uri": "https://localhost:8080/"
        },
        "id": "BMcy3qFZMQlK",
        "outputId": "19ee2ff8-57a3-438c-ee71-31bcd5809eaf"
      },
      "execution_count": 21,
      "outputs": [
        {
          "output_type": "execute_result",
          "data": {
            "text/plain": [
              "<re.Match object; span=(8, 13), match='world'>"
            ]
          },
          "metadata": {},
          "execution_count": 21
        }
      ]
    },
    {
      "cell_type": "code",
      "source": [
        "pattern.search(\"hola    mundo \")"
      ],
      "metadata": {
        "id": "gyNiT_JNMg_h"
      },
      "execution_count": 22,
      "outputs": []
    },
    {
      "cell_type": "code",
      "source": [
        "pattern = re.compile(r'^<HTML>', re.MULTILINE)\n",
        "pattern.search(\"<HTML>\")"
      ],
      "metadata": {
        "colab": {
          "base_uri": "https://localhost:8080/"
        },
        "id": "XgGeMtqpMpyA",
        "outputId": "f29ba25e-545d-4cc7-9c00-159ca115d1a7"
      },
      "execution_count": 23,
      "outputs": [
        {
          "output_type": "execute_result",
          "data": {
            "text/plain": [
              "<re.Match object; span=(0, 6), match='<HTML>'>"
            ]
          },
          "metadata": {},
          "execution_count": 23
        }
      ]
    },
    {
      "cell_type": "code",
      "source": [
        "pattern.search(\"    <HTML>\")"
      ],
      "metadata": {
        "id": "-9XqPKe1M2r5"
      },
      "execution_count": 24,
      "outputs": []
    },
    {
      "cell_type": "code",
      "source": [
        "pattern.search(\"        \\n<HTML>\")"
      ],
      "metadata": {
        "colab": {
          "base_uri": "https://localhost:8080/"
        },
        "id": "UQClsma_M_6B",
        "outputId": "01d6a9bc-5910-4b84-deae-61354d4b7690"
      },
      "execution_count": 25,
      "outputs": [
        {
          "output_type": "execute_result",
          "data": {
            "text/plain": [
              "<re.Match object; span=(9, 15), match='<HTML>'>"
            ]
          },
          "metadata": {},
          "execution_count": 25
        }
      ]
    },
    {
      "cell_type": "code",
      "source": [
        "pattern.search(\"        \\n<HTML>\", 9)"
      ],
      "metadata": {
        "colab": {
          "base_uri": "https://localhost:8080/"
        },
        "id": "4x8nT2HcNFHD",
        "outputId": "7c1596a6-6d9d-4c83-9d0f-7cfcc484599e"
      },
      "execution_count": 26,
      "outputs": [
        {
          "output_type": "execute_result",
          "data": {
            "text/plain": [
              "<re.Match object; span=(9, 15), match='<HTML>'>"
            ]
          },
          "metadata": {},
          "execution_count": 26
        }
      ]
    },
    {
      "cell_type": "code",
      "source": [
        "pattern.search('</div></body>\\n<HTML>', 4)"
      ],
      "metadata": {
        "colab": {
          "base_uri": "https://localhost:8080/"
        },
        "id": "sKmObhdNNT9l",
        "outputId": "08f04df8-8c1b-4221-c296-a628b97bdffb"
      },
      "execution_count": 27,
      "outputs": [
        {
          "output_type": "execute_result",
          "data": {
            "text/plain": [
              "<re.Match object; span=(14, 20), match='<HTML>'>"
            ]
          },
          "metadata": {},
          "execution_count": 27
        }
      ]
    },
    {
      "cell_type": "code",
      "source": [
        "pattern.search(\"    \\n<HTML>\", 6)"
      ],
      "metadata": {
        "id": "aMmiZRKiNouS"
      },
      "execution_count": 28,
      "outputs": []
    },
    {
      "cell_type": "code",
      "source": [
        "# findall(string[, pos[, endpos]])\n",
        "pattern = re.compile(r\"\\w+\")\n",
        "pattern.findall(\"hello  world\")"
      ],
      "metadata": {
        "colab": {
          "base_uri": "https://localhost:8080/"
        },
        "id": "kjOedk9IN3UM",
        "outputId": "ae797418-e7f4-4959-b336-00ffb3419493"
      },
      "execution_count": 29,
      "outputs": [
        {
          "output_type": "execute_result",
          "data": {
            "text/plain": [
              "['hello', 'world']"
            ]
          },
          "metadata": {},
          "execution_count": 29
        }
      ]
    },
    {
      "cell_type": "code",
      "source": [
        "pattern = re.compile(r'a*')\n",
        "pattern.findall(\"aba\")"
      ],
      "metadata": {
        "colab": {
          "base_uri": "https://localhost:8080/"
        },
        "id": "2KfXO4KoOPLE",
        "outputId": "f5fbab87-1fbf-4aee-818d-4beec3a5bb3f"
      },
      "execution_count": 30,
      "outputs": [
        {
          "output_type": "execute_result",
          "data": {
            "text/plain": [
              "['a', '', 'a', '']"
            ]
          },
          "metadata": {},
          "execution_count": 30
        }
      ]
    },
    {
      "cell_type": "code",
      "source": [
        "pattern = re.compile(r'a?')\n",
        "pattern.findall(\"aba\")"
      ],
      "metadata": {
        "colab": {
          "base_uri": "https://localhost:8080/"
        },
        "id": "fYg7DwFdOcdd",
        "outputId": "2d90a0d3-f7d3-4fae-d647-dc6d5b352f84"
      },
      "execution_count": 31,
      "outputs": [
        {
          "output_type": "execute_result",
          "data": {
            "text/plain": [
              "['a', '', 'a', '']"
            ]
          },
          "metadata": {},
          "execution_count": 31
        }
      ]
    },
    {
      "cell_type": "code",
      "source": [
        "pattern = re.compile(r\"(\\w+) (\\w+)\")\n",
        "pattern.findall(\"Hello world hola mundo\")"
      ],
      "metadata": {
        "colab": {
          "base_uri": "https://localhost:8080/"
        },
        "id": "wevhGa4cOjRS",
        "outputId": "ec0e502e-054a-43da-fc79-2d3b058899cf"
      },
      "execution_count": 32,
      "outputs": [
        {
          "output_type": "execute_result",
          "data": {
            "text/plain": [
              "[('Hello', 'world'), ('hola', 'mundo')]"
            ]
          },
          "metadata": {},
          "execution_count": 32
        }
      ]
    },
    {
      "cell_type": "code",
      "source": [
        "# finditer(string[, pos[, endpos]])\n",
        "pattern = re.compile(r\"(\\w+) (\\w+)\")\n",
        "it = pattern.finditer(\"Hello world hola mundo\")\n",
        "match = next(it)\n",
        "match.groups()"
      ],
      "metadata": {
        "colab": {
          "base_uri": "https://localhost:8080/"
        },
        "id": "Z9yybVq3O77L",
        "outputId": "6b08fc65-0cf4-446e-bb22-ee8cbaf902d7"
      },
      "execution_count": 33,
      "outputs": [
        {
          "output_type": "execute_result",
          "data": {
            "text/plain": [
              "('Hello', 'world')"
            ]
          },
          "metadata": {},
          "execution_count": 33
        }
      ]
    },
    {
      "cell_type": "code",
      "source": [
        "match.span()"
      ],
      "metadata": {
        "colab": {
          "base_uri": "https://localhost:8080/"
        },
        "id": "cVylkcJOPpig",
        "outputId": "3e372d42-8c94-43d5-b143-c32f2a8681ab"
      },
      "execution_count": 34,
      "outputs": [
        {
          "output_type": "execute_result",
          "data": {
            "text/plain": [
              "(0, 11)"
            ]
          },
          "metadata": {},
          "execution_count": 34
        }
      ]
    },
    {
      "cell_type": "code",
      "source": [
        "match = next(it)\n",
        "match.groups()"
      ],
      "metadata": {
        "colab": {
          "base_uri": "https://localhost:8080/"
        },
        "id": "wvuf3jf5QTBr",
        "outputId": "1f1823b1-3a7d-4d9e-b88e-173c98cc3250"
      },
      "execution_count": 35,
      "outputs": [
        {
          "output_type": "execute_result",
          "data": {
            "text/plain": [
              "('hola', 'mundo')"
            ]
          },
          "metadata": {},
          "execution_count": 35
        }
      ]
    },
    {
      "cell_type": "code",
      "source": [
        "match.span()"
      ],
      "metadata": {
        "colab": {
          "base_uri": "https://localhost:8080/"
        },
        "id": "qe-ci-vfQX-h",
        "outputId": "8cc7320d-f747-49a4-80f3-49b79f26dd36"
      },
      "execution_count": 36,
      "outputs": [
        {
          "output_type": "execute_result",
          "data": {
            "text/plain": [
              "(12, 22)"
            ]
          },
          "metadata": {},
          "execution_count": 36
        }
      ]
    },
    {
      "cell_type": "code",
      "source": [
        "# StopIteration (error)\n",
        "# match = next(it)"
      ],
      "metadata": {
        "colab": {
          "base_uri": "https://localhost:8080/",
          "height": 183
        },
        "id": "3BdB1E9bQdD7",
        "outputId": "1ed78925-59f7-41fe-a73e-acefebec411b"
      },
      "execution_count": 37,
      "outputs": [
        {
          "output_type": "error",
          "ename": "StopIteration",
          "evalue": "ignored",
          "traceback": [
            "\u001b[0;31m---------------------------------------------------------------------------\u001b[0m",
            "\u001b[0;31mStopIteration\u001b[0m                             Traceback (most recent call last)",
            "\u001b[0;32m<ipython-input-37-66b4e5f27378>\u001b[0m in \u001b[0;36m<module>\u001b[0;34m()\u001b[0m\n\u001b[1;32m      1\u001b[0m \u001b[0;31m# StopIteration (error)\u001b[0m\u001b[0;34m\u001b[0m\u001b[0;34m\u001b[0m\u001b[0;34m\u001b[0m\u001b[0m\n\u001b[0;32m----> 2\u001b[0;31m \u001b[0mmatch\u001b[0m \u001b[0;34m=\u001b[0m \u001b[0mnext\u001b[0m\u001b[0;34m(\u001b[0m\u001b[0mit\u001b[0m\u001b[0;34m)\u001b[0m\u001b[0;34m\u001b[0m\u001b[0;34m\u001b[0m\u001b[0m\n\u001b[0m",
            "\u001b[0;31mStopIteration\u001b[0m: "
          ]
        }
      ]
    },
    {
      "cell_type": "markdown",
      "source": [
        "### Modifying a string"
      ],
      "metadata": {
        "id": "Befb36BQQqoR"
      }
    },
    {
      "cell_type": "code",
      "source": [
        "# split(string, maxsplit=0)\n",
        "re.split(r\"\\n\", \"Beautiful is better than ugly.\\nExplicit is better than implicit.\")"
      ],
      "metadata": {
        "colab": {
          "base_uri": "https://localhost:8080/"
        },
        "id": "5D_22NG4QgTM",
        "outputId": "508d5d2c-c1ae-4ebb-e46d-53cd59d99bf0"
      },
      "execution_count": 38,
      "outputs": [
        {
          "output_type": "execute_result",
          "data": {
            "text/plain": [
              "['Beautiful is better than ugly.', 'Explicit is better than implicit.']"
            ]
          },
          "metadata": {},
          "execution_count": 38
        }
      ]
    },
    {
      "cell_type": "code",
      "source": [
        "pattern = re.compile(r\"\\W\")\n",
        "pattern.split(\"hello world\")"
      ],
      "metadata": {
        "colab": {
          "base_uri": "https://localhost:8080/"
        },
        "id": "0QKANuQ2Q-IM",
        "outputId": "04916388-4890-44f2-faca-295ecf7ef71a"
      },
      "execution_count": 39,
      "outputs": [
        {
          "output_type": "execute_result",
          "data": {
            "text/plain": [
              "['hello', 'world']"
            ]
          },
          "metadata": {},
          "execution_count": 39
        }
      ]
    },
    {
      "cell_type": "code",
      "source": [
        "pattern = re.compile(r\"\\W\")\n",
        "pattern.findall(\"hello world\")"
      ],
      "metadata": {
        "colab": {
          "base_uri": "https://localhost:8080/"
        },
        "id": "e72HWtIyRGkv",
        "outputId": "960d6a76-e8b7-4dab-eff1-bd6d7500ce7b"
      },
      "execution_count": 40,
      "outputs": [
        {
          "output_type": "execute_result",
          "data": {
            "text/plain": [
              "[' ']"
            ]
          },
          "metadata": {},
          "execution_count": 40
        }
      ]
    },
    {
      "cell_type": "code",
      "source": [
        "pattern = re.compile(r\"\\W\")\n",
        "pattern.split(\"Beautiful is better than ugly\", 2)"
      ],
      "metadata": {
        "colab": {
          "base_uri": "https://localhost:8080/"
        },
        "id": "ln5zgBoKRQDq",
        "outputId": "09d5d02a-0335-4ecf-d1d4-e17c68783cc2"
      },
      "execution_count": 41,
      "outputs": [
        {
          "output_type": "execute_result",
          "data": {
            "text/plain": [
              "['Beautiful', 'is', 'better than ugly']"
            ]
          },
          "metadata": {},
          "execution_count": 41
        }
      ]
    },
    {
      "cell_type": "code",
      "source": [
        "pattern = re.compile(r\"(-)\")\n",
        "pattern.split(\"hello-world\")"
      ],
      "metadata": {
        "colab": {
          "base_uri": "https://localhost:8080/"
        },
        "id": "QMSa6yxERa6F",
        "outputId": "97dea74d-2f37-4b7e-b24b-99aa793d8519"
      },
      "execution_count": 42,
      "outputs": [
        {
          "output_type": "execute_result",
          "data": {
            "text/plain": [
              "['hello', '-', 'world']"
            ]
          },
          "metadata": {},
          "execution_count": 42
        }
      ]
    },
    {
      "cell_type": "code",
      "source": [
        "pattern = re.compile(r\"-\")\n",
        "pattern.split(\"hello-world\")"
      ],
      "metadata": {
        "colab": {
          "base_uri": "https://localhost:8080/"
        },
        "id": "4ZVVj0ZBRnYS",
        "outputId": "226f4895-090f-4e46-a3da-e7fb48b9fa2b"
      },
      "execution_count": 43,
      "outputs": [
        {
          "output_type": "execute_result",
          "data": {
            "text/plain": [
              "['hello', 'world']"
            ]
          },
          "metadata": {},
          "execution_count": 43
        }
      ]
    },
    {
      "cell_type": "code",
      "source": [
        "pattern = re.compile(r\"(\\W)\")\n",
        "pattern.split(\" hello world\")"
      ],
      "metadata": {
        "colab": {
          "base_uri": "https://localhost:8080/"
        },
        "id": "yI31RdyuRwqt",
        "outputId": "10c9c99e-aa6d-42f1-f9ce-fa75f3b29e67"
      },
      "execution_count": 44,
      "outputs": [
        {
          "output_type": "execute_result",
          "data": {
            "text/plain": [
              "['', ' ', 'hello', ' ', 'world']"
            ]
          },
          "metadata": {},
          "execution_count": 44
        }
      ]
    },
    {
      "cell_type": "code",
      "source": [
        "# sub(repl, string, count=0)\n",
        "pattern = re.compile(r\"[0-9]+\")\n",
        "pattern.sub(\"-\", \"order0 order1 order13\")"
      ],
      "metadata": {
        "colab": {
          "base_uri": "https://localhost:8080/",
          "height": 35
        },
        "id": "m16Y75tFR4xJ",
        "outputId": "e8552c53-2505-4df7-b997-391b457eedd4"
      },
      "execution_count": 45,
      "outputs": [
        {
          "output_type": "execute_result",
          "data": {
            "application/vnd.google.colaboratory.intrinsic+json": {
              "type": "string"
            },
            "text/plain": [
              "'order- order- order-'"
            ]
          },
          "metadata": {},
          "execution_count": 45
        }
      ]
    },
    {
      "cell_type": "code",
      "source": [
        "re.sub('00', '-', 'order00000') # five 0s sub from leftmost pattern"
      ],
      "metadata": {
        "colab": {
          "base_uri": "https://localhost:8080/",
          "height": 35
        },
        "id": "l9YcbD4oSHcW",
        "outputId": "bd8faf31-2aff-49f9-f5e5-198ef7ac30c0"
      },
      "execution_count": 46,
      "outputs": [
        {
          "output_type": "execute_result",
          "data": {
            "application/vnd.google.colaboratory.intrinsic+json": {
              "type": "string"
            },
            "text/plain": [
              "'order--0'"
            ]
          },
          "metadata": {},
          "execution_count": 46
        }
      ]
    },
    {
      "cell_type": "code",
      "source": [
        "def normalize_orders(matchobj):\n",
        "    if matchobj.group(1) == '-':return \"A\"\n",
        "    else: return \"B\"\n",
        "\n",
        "re.sub('([-|A-Z])', normalize_orders, '1234 A193 B123')"
      ],
      "metadata": {
        "colab": {
          "base_uri": "https://localhost:8080/",
          "height": 35
        },
        "id": "2YcIrYoSSXA7",
        "outputId": "adb56f59-856d-4efc-d6c4-f552e3cc917c"
      },
      "execution_count": 47,
      "outputs": [
        {
          "output_type": "execute_result",
          "data": {
            "application/vnd.google.colaboratory.intrinsic+json": {
              "type": "string"
            },
            "text/plain": [
              "'1234 B193 B123'"
            ]
          },
          "metadata": {},
          "execution_count": 47
        }
      ]
    },
    {
      "cell_type": "code",
      "source": [
        "text = \"imagine a new *world*, a magic *world*\"\n",
        "pattern = re.compile(r'\\*(.*?)\\*')\n",
        "pattern.sub(r\"<b>\\g<1><\\\\b>\", text)"
      ],
      "metadata": {
        "colab": {
          "base_uri": "https://localhost:8080/",
          "height": 35
        },
        "id": "NdpyM7ibS_Ta",
        "outputId": "d5ec3391-a3ba-41c7-a3bb-b7e280826a1f"
      },
      "execution_count": 48,
      "outputs": [
        {
          "output_type": "execute_result",
          "data": {
            "application/vnd.google.colaboratory.intrinsic+json": {
              "type": "string"
            },
            "text/plain": [
              "'imagine a new <b>world<\\\\b>, a magic <b>world<\\\\b>'"
            ]
          },
          "metadata": {},
          "execution_count": 48
        }
      ]
    },
    {
      "cell_type": "code",
      "source": [
        "text = \"imagine a new *world*, a magic *world*\"\n",
        "pattern = re.compile(r'\\*(.*?)\\*')\n",
        "pattern.sub(r\"<b>\\g<1>1<\\\\b>\", text)"
      ],
      "metadata": {
        "colab": {
          "base_uri": "https://localhost:8080/",
          "height": 35
        },
        "id": "4Tv4fSdlTkh4",
        "outputId": "5e49c35e-bb51-4c22-ddf4-2a972478c23c"
      },
      "execution_count": 49,
      "outputs": [
        {
          "output_type": "execute_result",
          "data": {
            "application/vnd.google.colaboratory.intrinsic+json": {
              "type": "string"
            },
            "text/plain": [
              "'imagine a new <b>world1<\\\\b>, a magic <b>world1<\\\\b>'"
            ]
          },
          "metadata": {},
          "execution_count": 49
        }
      ]
    },
    {
      "cell_type": "code",
      "source": [
        "# subn(repl, string, count=0)\n",
        "text = \"imagine a new *world*, a magic *world*\"\n",
        "pattern = re.compile(r'\\*(.*?)\\*')\n",
        "pattern.subn(r\"<b>\\g<1><\\\\b>\", text)"
      ],
      "metadata": {
        "colab": {
          "base_uri": "https://localhost:8080/"
        },
        "id": "9-Ep_4McT3ex",
        "outputId": "50da20bf-83c8-453e-e316-25c6a0a4b710"
      },
      "execution_count": 50,
      "outputs": [
        {
          "output_type": "execute_result",
          "data": {
            "text/plain": [
              "('imagine a new <b>world<\\\\b>, a magic <b>world<\\\\b>', 2)"
            ]
          },
          "metadata": {},
          "execution_count": 50
        }
      ]
    },
    {
      "cell_type": "markdown",
      "source": [
        "### MatchObject"
      ],
      "metadata": {
        "id": "IixcQnxFUVZr"
      }
    },
    {
      "cell_type": "code",
      "source": [
        "#group([group1,...])\n",
        "pattern = re.compile(r\"(\\w+) (\\w+)\")\n",
        "match = pattern.search(\"Hello world\")"
      ],
      "metadata": {
        "id": "jlCHODhhUREa"
      },
      "execution_count": 51,
      "outputs": []
    },
    {
      "cell_type": "code",
      "source": [
        "match.group()"
      ],
      "metadata": {
        "colab": {
          "base_uri": "https://localhost:8080/",
          "height": 35
        },
        "id": "qa4kdTjiUon7",
        "outputId": "90ad359f-06b0-4ca1-b552-9c8e9ce5177e"
      },
      "execution_count": 52,
      "outputs": [
        {
          "output_type": "execute_result",
          "data": {
            "application/vnd.google.colaboratory.intrinsic+json": {
              "type": "string"
            },
            "text/plain": [
              "'Hello world'"
            ]
          },
          "metadata": {},
          "execution_count": 52
        }
      ]
    },
    {
      "cell_type": "code",
      "source": [
        "match.group(0)"
      ],
      "metadata": {
        "colab": {
          "base_uri": "https://localhost:8080/",
          "height": 35
        },
        "id": "hjpJEc04UtSS",
        "outputId": "de6d76fa-9fca-4ef5-dd5b-a12af8392b35"
      },
      "execution_count": 53,
      "outputs": [
        {
          "output_type": "execute_result",
          "data": {
            "application/vnd.google.colaboratory.intrinsic+json": {
              "type": "string"
            },
            "text/plain": [
              "'Hello world'"
            ]
          },
          "metadata": {},
          "execution_count": 53
        }
      ]
    },
    {
      "cell_type": "code",
      "source": [
        "match.group(1)"
      ],
      "metadata": {
        "colab": {
          "base_uri": "https://localhost:8080/",
          "height": 35
        },
        "id": "vTEmW0HnUxB2",
        "outputId": "35ae21b7-d171-4d34-90af-bd105508714b"
      },
      "execution_count": 54,
      "outputs": [
        {
          "output_type": "execute_result",
          "data": {
            "application/vnd.google.colaboratory.intrinsic+json": {
              "type": "string"
            },
            "text/plain": [
              "'Hello'"
            ]
          },
          "metadata": {},
          "execution_count": 54
        }
      ]
    },
    {
      "cell_type": "code",
      "source": [
        "match.group(2)"
      ],
      "metadata": {
        "colab": {
          "base_uri": "https://localhost:8080/",
          "height": 35
        },
        "id": "oGCaDoldUzu6",
        "outputId": "d38542bb-a14f-4666-f829-e0e828c04745"
      },
      "execution_count": 55,
      "outputs": [
        {
          "output_type": "execute_result",
          "data": {
            "application/vnd.google.colaboratory.intrinsic+json": {
              "type": "string"
            },
            "text/plain": [
              "'world'"
            ]
          },
          "metadata": {},
          "execution_count": 55
        }
      ]
    },
    {
      "cell_type": "code",
      "source": [
        "# match.group(3)"
      ],
      "metadata": {
        "id": "d2Mg3I4xU2Rk"
      },
      "execution_count": null,
      "outputs": []
    },
    {
      "cell_type": "code",
      "source": [
        "match.group(0, 2)"
      ],
      "metadata": {
        "colab": {
          "base_uri": "https://localhost:8080/"
        },
        "id": "rfP6rUaYU3nS",
        "outputId": "759fba7d-95b9-4717-a5f0-fd9da4314f66"
      },
      "execution_count": 57,
      "outputs": [
        {
          "output_type": "execute_result",
          "data": {
            "text/plain": [
              "('Hello world', 'world')"
            ]
          },
          "metadata": {},
          "execution_count": 57
        }
      ]
    },
    {
      "cell_type": "code",
      "source": [
        "pattern = re.compile(r\"(?P<first>\\w+) (?P<second>\\w+)\")"
      ],
      "metadata": {
        "id": "nUuCCL2lU6uV"
      },
      "execution_count": 58,
      "outputs": []
    },
    {
      "cell_type": "code",
      "source": [
        "match = pattern.search(\"Hello world\")\n",
        "match.group('first')"
      ],
      "metadata": {
        "colab": {
          "base_uri": "https://localhost:8080/",
          "height": 35
        },
        "id": "49-INcY1VK41",
        "outputId": "5742d117-e7f8-4f51-c3d9-4b6c5d0b3825"
      },
      "execution_count": 59,
      "outputs": [
        {
          "output_type": "execute_result",
          "data": {
            "application/vnd.google.colaboratory.intrinsic+json": {
              "type": "string"
            },
            "text/plain": [
              "'Hello'"
            ]
          },
          "metadata": {},
          "execution_count": 59
        }
      ]
    },
    {
      "cell_type": "code",
      "source": [
        "match.group(1)"
      ],
      "metadata": {
        "colab": {
          "base_uri": "https://localhost:8080/",
          "height": 35
        },
        "id": "00GE7WS8VWUR",
        "outputId": "f25a6310-3aee-456b-99e3-fef0bb04dd55"
      },
      "execution_count": 60,
      "outputs": [
        {
          "output_type": "execute_result",
          "data": {
            "application/vnd.google.colaboratory.intrinsic+json": {
              "type": "string"
            },
            "text/plain": [
              "'Hello'"
            ]
          },
          "metadata": {},
          "execution_count": 60
        }
      ]
    },
    {
      "cell_type": "code",
      "source": [
        "match.group(0, 'first', 2)"
      ],
      "metadata": {
        "colab": {
          "base_uri": "https://localhost:8080/"
        },
        "id": "tHAw8WICVeGp",
        "outputId": "13f130a5-d194-45ee-f0ef-093b389adc2d"
      },
      "execution_count": 61,
      "outputs": [
        {
          "output_type": "execute_result",
          "data": {
            "text/plain": [
              "('Hello world', 'Hello', 'world')"
            ]
          },
          "metadata": {},
          "execution_count": 61
        }
      ]
    },
    {
      "cell_type": "code",
      "source": [
        "# groups([default])\n",
        "pattern = re.compile(\"(\\w+) (\\w+)\")\n",
        "match = pattern.search(\"Hello world\")\n",
        "match.groups()"
      ],
      "metadata": {
        "colab": {
          "base_uri": "https://localhost:8080/"
        },
        "id": "3quupxRFVh8r",
        "outputId": "03bf6eaf-377e-4a69-9d63-b5ce84564a98"
      },
      "execution_count": 62,
      "outputs": [
        {
          "output_type": "execute_result",
          "data": {
            "text/plain": [
              "('Hello', 'world')"
            ]
          },
          "metadata": {},
          "execution_count": 62
        }
      ]
    },
    {
      "cell_type": "code",
      "source": [
        "pattern = re.compile(\"(\\w+) (\\w+)?\")\n",
        "match = pattern.search(\"Hello \")\n",
        "match.groups(\"mundo\")"
      ],
      "metadata": {
        "colab": {
          "base_uri": "https://localhost:8080/"
        },
        "id": "JoZbmplsVzZX",
        "outputId": "f4ea1471-5813-47d9-c0e2-f07dd331873e"
      },
      "execution_count": 63,
      "outputs": [
        {
          "output_type": "execute_result",
          "data": {
            "text/plain": [
              "('Hello', 'mundo')"
            ]
          },
          "metadata": {},
          "execution_count": 63
        }
      ]
    },
    {
      "cell_type": "code",
      "source": [
        "match.groups()"
      ],
      "metadata": {
        "colab": {
          "base_uri": "https://localhost:8080/"
        },
        "id": "N7YrJEYTWKnN",
        "outputId": "aa35a600-71d5-43ef-a1b8-054d61f77dad"
      },
      "execution_count": 64,
      "outputs": [
        {
          "output_type": "execute_result",
          "data": {
            "text/plain": [
              "('Hello', None)"
            ]
          },
          "metadata": {},
          "execution_count": 64
        }
      ]
    },
    {
      "cell_type": "code",
      "source": [
        "# groupdict([default])\n",
        "pattern = re.compile(r\"(?P<first>\\w+) (?P<second>\\w+)\")\n",
        "pattern.search(\"Hello world\").groupdict()"
      ],
      "metadata": {
        "colab": {
          "base_uri": "https://localhost:8080/"
        },
        "id": "89YGKnvvWNBF",
        "outputId": "d26de430-f52f-4832-912b-4cfb0d4193cb"
      },
      "execution_count": 65,
      "outputs": [
        {
          "output_type": "execute_result",
          "data": {
            "text/plain": [
              "{'first': 'Hello', 'second': 'world'}"
            ]
          },
          "metadata": {},
          "execution_count": 65
        }
      ]
    },
    {
      "cell_type": "code",
      "source": [
        "# start([group])\n",
        "pattern = re.compile(r\"(?P<first>\\w+) (?P<second>\\w+)?\")\n",
        "match = pattern.search(\"Hello \")\n",
        "match.start(1)"
      ],
      "metadata": {
        "colab": {
          "base_uri": "https://localhost:8080/"
        },
        "id": "HT8GzfmFWrdu",
        "outputId": "16464bf5-65fc-4c92-a6c7-72f0df35eecb"
      },
      "execution_count": 66,
      "outputs": [
        {
          "output_type": "execute_result",
          "data": {
            "text/plain": [
              "0"
            ]
          },
          "metadata": {},
          "execution_count": 66
        }
      ]
    },
    {
      "cell_type": "code",
      "source": [
        "match = pattern.search(\"Hello \")\n",
        "match.start(2)"
      ],
      "metadata": {
        "colab": {
          "base_uri": "https://localhost:8080/"
        },
        "id": "GNQgDGDcXIQ5",
        "outputId": "40d3b4d9-1ce2-4794-edc1-ba94c469029b"
      },
      "execution_count": 67,
      "outputs": [
        {
          "output_type": "execute_result",
          "data": {
            "text/plain": [
              "-1"
            ]
          },
          "metadata": {},
          "execution_count": 67
        }
      ]
    },
    {
      "cell_type": "code",
      "source": [
        "# end([group])\n",
        "pattern = re.compile(r\"(?P<first>\\w+) (?P<second>\\w+)?\")\n",
        "match = pattern.search(\"Hello \")\n",
        "match.end(1)"
      ],
      "metadata": {
        "colab": {
          "base_uri": "https://localhost:8080/"
        },
        "id": "k6v_ehYbXS8t",
        "outputId": "b89b79d7-d74d-4052-8c5f-0296877e6ac7"
      },
      "execution_count": 68,
      "outputs": [
        {
          "output_type": "execute_result",
          "data": {
            "text/plain": [
              "5"
            ]
          },
          "metadata": {},
          "execution_count": 68
        }
      ]
    },
    {
      "cell_type": "code",
      "source": [
        "match = pattern.search(\"Hello \")\n",
        "match.end(2)"
      ],
      "metadata": {
        "colab": {
          "base_uri": "https://localhost:8080/"
        },
        "id": "z8q5mFYuXuKe",
        "outputId": "2d569ef3-2982-4727-b88e-4369ad0beece"
      },
      "execution_count": 69,
      "outputs": [
        {
          "output_type": "execute_result",
          "data": {
            "text/plain": [
              "-1"
            ]
          },
          "metadata": {},
          "execution_count": 69
        }
      ]
    },
    {
      "cell_type": "code",
      "source": [
        "# span([group])\n",
        "pettern = re.compile(r\"(?P<first>\\w+) (?P<second>\\w+)?\")\n",
        "match = pattern.search(\"Hello \")\n",
        "match.span(1)"
      ],
      "metadata": {
        "id": "KpcQxmmFXwq_",
        "colab": {
          "base_uri": "https://localhost:8080/"
        },
        "outputId": "c0dccc30-f7a2-410f-f36f-b63d7a841617"
      },
      "execution_count": 70,
      "outputs": [
        {
          "output_type": "execute_result",
          "data": {
            "text/plain": [
              "(0, 5)"
            ]
          },
          "metadata": {},
          "execution_count": 70
        }
      ]
    },
    {
      "cell_type": "code",
      "source": [
        "# expand(template)\n",
        "text = \"imagine a new *world*, a magic *world*\"\n",
        "match = re.search(r'\\*(.*?)\\*', text)\n",
        "match.expand(r\"<b>\\g<1><\\\\b>\")"
      ],
      "metadata": {
        "colab": {
          "base_uri": "https://localhost:8080/",
          "height": 35
        },
        "id": "cgSPpq4LCAHk",
        "outputId": "61126cf5-2e53-43f0-fe02-ad9a0fee046a"
      },
      "execution_count": 72,
      "outputs": [
        {
          "output_type": "execute_result",
          "data": {
            "application/vnd.google.colaboratory.intrinsic+json": {
              "type": "string"
            },
            "text/plain": [
              "'<b>world<\\\\b>'"
            ]
          },
          "metadata": {},
          "execution_count": 72
        }
      ]
    },
    {
      "cell_type": "markdown",
      "source": [
        "### Module Operations"
      ],
      "metadata": {
        "id": "E6KBIWqAEIYa"
      }
    },
    {
      "cell_type": "code",
      "source": [
        "# escape\n",
        "re.findall(re.escape(\"^\"), \"^like^\")"
      ],
      "metadata": {
        "colab": {
          "base_uri": "https://localhost:8080/"
        },
        "id": "q0Z9Ocm9D2_u",
        "outputId": "33053464-bc99-4113-fe67-ccd9eaa3a884"
      },
      "execution_count": 73,
      "outputs": [
        {
          "output_type": "execute_result",
          "data": {
            "text/plain": [
              "['^', '^']"
            ]
          },
          "metadata": {},
          "execution_count": 73
        }
      ]
    },
    {
      "cell_type": "markdown",
      "source": [
        "## Compilation flags"
      ],
      "metadata": {
        "id": "MUwSRKtjFpmX"
      }
    },
    {
      "cell_type": "code",
      "source": [
        "# re.IGNORECASE or re.I\n",
        "pattern = re.compile(r\"[a-z]+\", re.I)\n",
        "pattern.search(\"Felix\")"
      ],
      "metadata": {
        "colab": {
          "base_uri": "https://localhost:8080/"
        },
        "id": "ae2zyxVkE4Hx",
        "outputId": "97d14dbc-ca69-4497-c735-05984ab632ee"
      },
      "execution_count": 74,
      "outputs": [
        {
          "output_type": "execute_result",
          "data": {
            "text/plain": [
              "<re.Match object; span=(0, 5), match='Felix'>"
            ]
          },
          "metadata": {},
          "execution_count": 74
        }
      ]
    },
    {
      "cell_type": "code",
      "source": [
        "pattern.search(\"felix\")"
      ],
      "metadata": {
        "colab": {
          "base_uri": "https://localhost:8080/"
        },
        "id": "jZYbjqTmG5k3",
        "outputId": "a04908e3-0196-4965-d6e0-0568e52a58b0"
      },
      "execution_count": 75,
      "outputs": [
        {
          "output_type": "execute_result",
          "data": {
            "text/plain": [
              "<re.Match object; span=(0, 5), match='felix'>"
            ]
          },
          "metadata": {},
          "execution_count": 75
        }
      ]
    },
    {
      "cell_type": "code",
      "source": [
        "# re.MULTILINE or re.M\n",
        "pattern = re.compile(\"^\\w+\\: (\\w+/\\w+/\\w+)\", re.M)\n",
        "pattern.findall(\"date: 12/01/2013 \\ndate: 11/01/2013\")"
      ],
      "metadata": {
        "colab": {
          "base_uri": "https://localhost:8080/"
        },
        "id": "x9raMLzAHD17",
        "outputId": "4ee6772e-b95f-4fb8-c637-e11ac759fb2b"
      },
      "execution_count": 76,
      "outputs": [
        {
          "output_type": "execute_result",
          "data": {
            "text/plain": [
              "['12/01/2013', '11/01/2013']"
            ]
          },
          "metadata": {},
          "execution_count": 76
        }
      ]
    },
    {
      "cell_type": "code",
      "source": [
        ""
      ],
      "metadata": {
        "id": "DJLIXL-2Hhwz"
      },
      "execution_count": null,
      "outputs": []
    }
  ]
}