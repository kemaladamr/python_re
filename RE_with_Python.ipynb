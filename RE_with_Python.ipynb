{
  "nbformat": 4,
  "nbformat_minor": 0,
  "metadata": {
    "colab": {
      "name": "RE_with_Python.ipynb",
      "provenance": [],
      "collapsed_sections": [],
      "authorship_tag": "ABX9TyM+uprgqGJOV+gukIZJckiD",
      "include_colab_link": true
    },
    "kernelspec": {
      "name": "python3",
      "display_name": "Python 3"
    },
    "language_info": {
      "name": "python"
    }
  },
  "cells": [
    {
      "cell_type": "markdown",
      "metadata": {
        "id": "view-in-github",
        "colab_type": "text"
      },
      "source": [
        "<a href=\"https://colab.research.google.com/github/kemaladamr/python_re/blob/main/RE_with_Python.ipynb\" target=\"_parent\"><img src=\"https://colab.research.google.com/assets/colab-badge.svg\" alt=\"Open In Colab\"/></a>"
      ]
    },
    {
      "cell_type": "markdown",
      "source": [
        ""
      ],
      "metadata": {
        "id": "2aZiPird1FJH"
      }
    },
    {
      "cell_type": "code",
      "execution_count": 1,
      "metadata": {
        "id": "wWtLX8ZI0FB4"
      },
      "outputs": [],
      "source": [
        "import re"
      ]
    },
    {
      "cell_type": "code",
      "source": [
        "pattern = re.compile(r'\\bfoo\\b')"
      ],
      "metadata": {
        "id": "M7avGYmv0wFK"
      },
      "execution_count": 2,
      "outputs": []
    },
    {
      "cell_type": "code",
      "source": [
        "pattern.match(\"foo bar\")"
      ],
      "metadata": {
        "colab": {
          "base_uri": "https://localhost:8080/"
        },
        "id": "zdbNST5d01Fu",
        "outputId": "7d03d8fe-19e6-46af-e157-dd113fd2279f"
      },
      "execution_count": 3,
      "outputs": [
        {
          "output_type": "execute_result",
          "data": {
            "text/plain": [
              "<re.Match object; span=(0, 3), match='foo'>"
            ]
          },
          "metadata": {},
          "execution_count": 3
        }
      ]
    },
    {
      "cell_type": "markdown",
      "source": [
        "## Backslash in string literals"
      ],
      "metadata": {
        "id": "Nta_nT7i1HD_"
      }
    },
    {
      "cell_type": "code",
      "source": [
        "pattern = re.compile(\"\\\\\\\\\")\n",
        "pattern.match(\"\\\\author\")"
      ],
      "metadata": {
        "colab": {
          "base_uri": "https://localhost:8080/"
        },
        "id": "MBSb0t6905Sa",
        "outputId": "f7d56b66-3706-4995-f39c-7c881848ffa2"
      },
      "execution_count": 4,
      "outputs": [
        {
          "output_type": "execute_result",
          "data": {
            "text/plain": [
              "<re.Match object; span=(0, 1), match='\\\\'>"
            ]
          },
          "metadata": {},
          "execution_count": 4
        }
      ]
    },
    {
      "cell_type": "code",
      "source": [
        "pattern = re.compile(r\"\\\\\")\n",
        "pattern.match(r\"\\author\")"
      ],
      "metadata": {
        "colab": {
          "base_uri": "https://localhost:8080/"
        },
        "id": "DAJHRE1_1Rff",
        "outputId": "904e10cc-29e8-4e7a-9772-154193a428a7"
      },
      "execution_count": 5,
      "outputs": [
        {
          "output_type": "execute_result",
          "data": {
            "text/plain": [
              "<re.Match object; span=(0, 1), match='\\\\'>"
            ]
          },
          "metadata": {},
          "execution_count": 5
        }
      ]
    },
    {
      "cell_type": "markdown",
      "source": [
        "## Building blocks for Python regex"
      ],
      "metadata": {
        "id": "Ekz1bB9111lj"
      }
    },
    {
      "cell_type": "code",
      "source": [
        "pattern = re.compile(r'fo+')"
      ],
      "metadata": {
        "id": "3EcfAFXu1u45"
      },
      "execution_count": 6,
      "outputs": []
    },
    {
      "cell_type": "code",
      "source": [
        "pattern = re.compile(r'<HTML>')\n",
        "pattern.match(\"<HTML>\")\n"
      ],
      "metadata": {
        "colab": {
          "base_uri": "https://localhost:8080/"
        },
        "id": "gKU-S5Jn19gV",
        "outputId": "a9e391df-9cad-446e-8584-f86070e1ac07"
      },
      "execution_count": 7,
      "outputs": [
        {
          "output_type": "execute_result",
          "data": {
            "text/plain": [
              "<re.Match object; span=(0, 6), match='<HTML>'>"
            ]
          },
          "metadata": {},
          "execution_count": 7
        }
      ]
    },
    {
      "cell_type": "code",
      "source": [
        "re.match(r'<HTML>', \"<HTML>\")"
      ],
      "metadata": {
        "colab": {
          "base_uri": "https://localhost:8080/"
        },
        "id": "NQ5XK9Na2GoY",
        "outputId": "f3c6f721-7b69-4a72-b03d-c48e55393952"
      },
      "execution_count": 8,
      "outputs": [
        {
          "output_type": "execute_result",
          "data": {
            "text/plain": [
              "<re.Match object; span=(0, 6), match='<HTML>'>"
            ]
          },
          "metadata": {},
          "execution_count": 8
        }
      ]
    },
    {
      "cell_type": "markdown",
      "source": [
        "### Searching"
      ],
      "metadata": {
        "id": "27pV7wqI2Y_N"
      }
    },
    {
      "cell_type": "code",
      "source": [
        "# match(string[, pos[, endpos]])\n",
        "pattern = re.compile(r'<HTML>')\n",
        "pattern.match(\"<HTML><head>\")"
      ],
      "metadata": {
        "colab": {
          "base_uri": "https://localhost:8080/"
        },
        "id": "8snQzYa02R_k",
        "outputId": "bf2618d8-76e4-4e8a-c08b-9352e45739f3"
      },
      "execution_count": 9,
      "outputs": [
        {
          "output_type": "execute_result",
          "data": {
            "text/plain": [
              "<re.Match object; span=(0, 6), match='<HTML>'>"
            ]
          },
          "metadata": {},
          "execution_count": 9
        }
      ]
    },
    {
      "cell_type": "code",
      "source": [
        "pattern.match(\" <HTML>\")"
      ],
      "metadata": {
        "id": "mn8f0xGv2oHr"
      },
      "execution_count": 10,
      "outputs": []
    },
    {
      "cell_type": "code",
      "source": [
        "pattern.search(\"    <HTML>\")"
      ],
      "metadata": {
        "colab": {
          "base_uri": "https://localhost:8080/"
        },
        "id": "78X89lme5A-p",
        "outputId": "01b518d2-9ada-4263-c482-421ec8e7cba3"
      },
      "execution_count": 11,
      "outputs": [
        {
          "output_type": "execute_result",
          "data": {
            "text/plain": [
              "<re.Match object; span=(4, 10), match='<HTML>'>"
            ]
          },
          "metadata": {},
          "execution_count": 11
        }
      ]
    },
    {
      "cell_type": "code",
      "source": [
        "pattern = re.compile(r'<HTML>')\n",
        "pattern.match(\"     <HTML>\")"
      ],
      "metadata": {
        "id": "NR7ZAfu15PDf"
      },
      "execution_count": 12,
      "outputs": []
    },
    {
      "cell_type": "code",
      "source": [
        "pattern.match(\"     <HTML>\", 5)"
      ],
      "metadata": {
        "colab": {
          "base_uri": "https://localhost:8080/"
        },
        "id": "BFXhAWkH5c7X",
        "outputId": "312245b7-8ab4-49b6-c70c-0401d52396e1"
      },
      "execution_count": 13,
      "outputs": [
        {
          "output_type": "execute_result",
          "data": {
            "text/plain": [
              "<re.Match object; span=(5, 11), match='<HTML>'>"
            ]
          },
          "metadata": {},
          "execution_count": 13
        }
      ]
    },
    {
      "cell_type": "code",
      "source": [
        "pattern = re.compile(r'^<HTML>')\n",
        "pattern.match(\"<HTML>\")"
      ],
      "metadata": {
        "colab": {
          "base_uri": "https://localhost:8080/"
        },
        "id": "FNYkZWuA5iDi",
        "outputId": "d1973037-2ab8-4e8b-9c52-85ffe36f5177"
      },
      "execution_count": 16,
      "outputs": [
        {
          "output_type": "execute_result",
          "data": {
            "text/plain": [
              "<re.Match object; span=(0, 6), match='<HTML>'>"
            ]
          },
          "metadata": {},
          "execution_count": 16
        }
      ]
    },
    {
      "cell_type": "code",
      "source": [
        "pattern.match(\"     <HTML>\", 5)"
      ],
      "metadata": {
        "id": "yI43DABTKl5_"
      },
      "execution_count": 17,
      "outputs": []
    },
    {
      "cell_type": "code",
      "source": [
        "pattern.match(\"     <HTML>\"[5:])"
      ],
      "metadata": {
        "colab": {
          "base_uri": "https://localhost:8080/"
        },
        "id": "sST6qY8eK4s8",
        "outputId": "5613bb75-2f2c-4d65-b7c2-8f1628f7f055"
      },
      "execution_count": 18,
      "outputs": [
        {
          "output_type": "execute_result",
          "data": {
            "text/plain": [
              "<re.Match object; span=(0, 6), match='<HTML>'>"
            ]
          },
          "metadata": {},
          "execution_count": 18
        }
      ]
    },
    {
      "cell_type": "code",
      "source": [
        "pattern = re.compile(r'<HTML>')\n",
        "pattern.match(\"<HTML>\"[:5])"
      ],
      "metadata": {
        "id": "CIhZxO1uK-xx"
      },
      "execution_count": 19,
      "outputs": []
    },
    {
      "cell_type": "code",
      "source": [
        "pattern.match(\"<HTML>\", 0, 5)"
      ],
      "metadata": {
        "id": "w8zC-vp4Lmer"
      },
      "execution_count": 21,
      "outputs": []
    },
    {
      "cell_type": "code",
      "source": [
        "pattern = re.compile(r'<HTML>$')\n",
        "pattern.match(\"<HTML>   \", 0, 6)"
      ],
      "metadata": {
        "colab": {
          "base_uri": "https://localhost:8080/"
        },
        "id": "xnrrv-W6LsSb",
        "outputId": "97afaa4f-6aac-4002-b0ed-d72782e89997"
      },
      "execution_count": 22,
      "outputs": [
        {
          "output_type": "execute_result",
          "data": {
            "text/plain": [
              "<re.Match object; span=(0, 6), match='<HTML>'>"
            ]
          },
          "metadata": {},
          "execution_count": 22
        }
      ]
    },
    {
      "cell_type": "code",
      "source": [
        "pattern.match(\"<HTML>   \"[:6])"
      ],
      "metadata": {
        "colab": {
          "base_uri": "https://localhost:8080/"
        },
        "id": "iRM800F4MDna",
        "outputId": "83a47fd9-6f79-4766-cf8e-5e7c66ab788b"
      },
      "execution_count": 23,
      "outputs": [
        {
          "output_type": "execute_result",
          "data": {
            "text/plain": [
              "<re.Match object; span=(0, 6), match='<HTML>'>"
            ]
          },
          "metadata": {},
          "execution_count": 23
        }
      ]
    },
    {
      "cell_type": "code",
      "source": [
        "# search(string[, pos[, endpos]])\n",
        "pattern = re.compile(r\"world\")\n",
        "pattern.search(\"hello   world\")"
      ],
      "metadata": {
        "colab": {
          "base_uri": "https://localhost:8080/"
        },
        "id": "BMcy3qFZMQlK",
        "outputId": "437555d9-c289-4d72-fec3-0e5ae1af7b93"
      },
      "execution_count": 25,
      "outputs": [
        {
          "output_type": "execute_result",
          "data": {
            "text/plain": [
              "<re.Match object; span=(8, 13), match='world'>"
            ]
          },
          "metadata": {},
          "execution_count": 25
        }
      ]
    },
    {
      "cell_type": "code",
      "source": [
        "pattern.search(\"hola    mundo \")"
      ],
      "metadata": {
        "id": "gyNiT_JNMg_h"
      },
      "execution_count": 26,
      "outputs": []
    },
    {
      "cell_type": "code",
      "source": [
        "pattern = re.compile(r'^<HTML>', re.MULTILINE)\n",
        "pattern.search(\"<HTML>\")"
      ],
      "metadata": {
        "colab": {
          "base_uri": "https://localhost:8080/"
        },
        "id": "XgGeMtqpMpyA",
        "outputId": "63f82e28-1b6a-4767-f113-6c9901741942"
      },
      "execution_count": 28,
      "outputs": [
        {
          "output_type": "execute_result",
          "data": {
            "text/plain": [
              "<re.Match object; span=(0, 6), match='<HTML>'>"
            ]
          },
          "metadata": {},
          "execution_count": 28
        }
      ]
    },
    {
      "cell_type": "code",
      "source": [
        "pattern.search(\"    <HTML>\")"
      ],
      "metadata": {
        "id": "-9XqPKe1M2r5"
      },
      "execution_count": 29,
      "outputs": []
    },
    {
      "cell_type": "code",
      "source": [
        "pattern.search(\"        \\n<HTML>\")"
      ],
      "metadata": {
        "colab": {
          "base_uri": "https://localhost:8080/"
        },
        "id": "UQClsma_M_6B",
        "outputId": "44ead3d7-3f30-4669-a82a-5944a31ce8f8"
      },
      "execution_count": 30,
      "outputs": [
        {
          "output_type": "execute_result",
          "data": {
            "text/plain": [
              "<re.Match object; span=(9, 15), match='<HTML>'>"
            ]
          },
          "metadata": {},
          "execution_count": 30
        }
      ]
    },
    {
      "cell_type": "code",
      "source": [
        "pattern.search(\"        \\n<HTML>\", 9)"
      ],
      "metadata": {
        "colab": {
          "base_uri": "https://localhost:8080/"
        },
        "id": "4x8nT2HcNFHD",
        "outputId": "d1a420c8-87a7-4351-ea33-93f9b6ea7447"
      },
      "execution_count": 34,
      "outputs": [
        {
          "output_type": "execute_result",
          "data": {
            "text/plain": [
              "<re.Match object; span=(9, 15), match='<HTML>'>"
            ]
          },
          "metadata": {},
          "execution_count": 34
        }
      ]
    },
    {
      "cell_type": "code",
      "source": [
        "pattern.search('</div></body>\\n<HTML>', 4)"
      ],
      "metadata": {
        "colab": {
          "base_uri": "https://localhost:8080/"
        },
        "id": "sKmObhdNNT9l",
        "outputId": "0fa40a74-22d7-41bd-ecde-197e9a13115b"
      },
      "execution_count": 35,
      "outputs": [
        {
          "output_type": "execute_result",
          "data": {
            "text/plain": [
              "<re.Match object; span=(14, 20), match='<HTML>'>"
            ]
          },
          "metadata": {},
          "execution_count": 35
        }
      ]
    },
    {
      "cell_type": "code",
      "source": [
        "pattern.search(\"    \\n<HTML>\", 6)"
      ],
      "metadata": {
        "id": "aMmiZRKiNouS"
      },
      "execution_count": 37,
      "outputs": []
    },
    {
      "cell_type": "code",
      "source": [
        "# findall(string[, pos[, endpos]])\n",
        "pattern = re.compile(r\"\\w+\")\n",
        "pattern.findall(\"hello  world\")"
      ],
      "metadata": {
        "colab": {
          "base_uri": "https://localhost:8080/"
        },
        "id": "kjOedk9IN3UM",
        "outputId": "3dd7c19b-1b1c-403b-cb32-6647f0a55404"
      },
      "execution_count": 38,
      "outputs": [
        {
          "output_type": "execute_result",
          "data": {
            "text/plain": [
              "['hello', 'world']"
            ]
          },
          "metadata": {},
          "execution_count": 38
        }
      ]
    },
    {
      "cell_type": "code",
      "source": [
        "pattern = re.compile(r'a*')\n",
        "pattern.findall(\"aba\")"
      ],
      "metadata": {
        "colab": {
          "base_uri": "https://localhost:8080/"
        },
        "id": "2KfXO4KoOPLE",
        "outputId": "98eb85f4-47c9-4d98-b2a3-c4efa7d9e00d"
      },
      "execution_count": 39,
      "outputs": [
        {
          "output_type": "execute_result",
          "data": {
            "text/plain": [
              "['a', '', 'a', '']"
            ]
          },
          "metadata": {},
          "execution_count": 39
        }
      ]
    },
    {
      "cell_type": "code",
      "source": [
        "pattern = re.compile(r'a?')\n",
        "pattern.findall(\"aba\")"
      ],
      "metadata": {
        "colab": {
          "base_uri": "https://localhost:8080/"
        },
        "id": "fYg7DwFdOcdd",
        "outputId": "b4aafc5b-7748-4f8e-d344-b47954c68135"
      },
      "execution_count": 40,
      "outputs": [
        {
          "output_type": "execute_result",
          "data": {
            "text/plain": [
              "['a', '', 'a', '']"
            ]
          },
          "metadata": {},
          "execution_count": 40
        }
      ]
    },
    {
      "cell_type": "code",
      "source": [
        "pattern = re.compile(r\"(\\w+) (\\w+)\")\n",
        "pattern.findall(\"Hello world hola mundo\")"
      ],
      "metadata": {
        "colab": {
          "base_uri": "https://localhost:8080/"
        },
        "id": "wevhGa4cOjRS",
        "outputId": "4ce5c13a-afa0-4283-aa20-901e5ce4e5b8"
      },
      "execution_count": 43,
      "outputs": [
        {
          "output_type": "execute_result",
          "data": {
            "text/plain": [
              "[('Hello', 'world'), ('hola', 'mundo')]"
            ]
          },
          "metadata": {},
          "execution_count": 43
        }
      ]
    },
    {
      "cell_type": "code",
      "source": [
        "# finditer(string[, pos[, endpos]])\n",
        "pattern = re.compile(r\"(\\w+) (\\w+)\")\n",
        "it = pattern.finditer(\"Hello world hola mundo\")\n",
        "match = next(it)\n",
        "match.groups()"
      ],
      "metadata": {
        "colab": {
          "base_uri": "https://localhost:8080/"
        },
        "id": "Z9yybVq3O77L",
        "outputId": "2a3f8849-9f7a-43da-b196-c0a6f52b305b"
      },
      "execution_count": 46,
      "outputs": [
        {
          "output_type": "execute_result",
          "data": {
            "text/plain": [
              "('Hello', 'world')"
            ]
          },
          "metadata": {},
          "execution_count": 46
        }
      ]
    },
    {
      "cell_type": "code",
      "source": [
        "match.span()"
      ],
      "metadata": {
        "colab": {
          "base_uri": "https://localhost:8080/"
        },
        "id": "cVylkcJOPpig",
        "outputId": "4ebf248e-a049-45ea-c329-26e7418cb2a1"
      },
      "execution_count": 47,
      "outputs": [
        {
          "output_type": "execute_result",
          "data": {
            "text/plain": [
              "(0, 11)"
            ]
          },
          "metadata": {},
          "execution_count": 47
        }
      ]
    },
    {
      "cell_type": "code",
      "source": [
        "match = next(it)\n",
        "match.groups()"
      ],
      "metadata": {
        "colab": {
          "base_uri": "https://localhost:8080/"
        },
        "id": "wvuf3jf5QTBr",
        "outputId": "6d40312a-c28e-4c36-fdd2-41dca21b708d"
      },
      "execution_count": 49,
      "outputs": [
        {
          "output_type": "execute_result",
          "data": {
            "text/plain": [
              "('hola', 'mundo')"
            ]
          },
          "metadata": {},
          "execution_count": 49
        }
      ]
    },
    {
      "cell_type": "code",
      "source": [
        "match.span()"
      ],
      "metadata": {
        "colab": {
          "base_uri": "https://localhost:8080/"
        },
        "id": "qe-ci-vfQX-h",
        "outputId": "c51d0cbf-9b05-411d-a619-0f51b9d9e5c7"
      },
      "execution_count": 50,
      "outputs": [
        {
          "output_type": "execute_result",
          "data": {
            "text/plain": [
              "(12, 22)"
            ]
          },
          "metadata": {},
          "execution_count": 50
        }
      ]
    },
    {
      "cell_type": "code",
      "source": [
        "# StopIteration (error)\n",
        "match = next(it)\n"
      ],
      "metadata": {
        "colab": {
          "base_uri": "https://localhost:8080/",
          "height": 165
        },
        "id": "3BdB1E9bQdD7",
        "outputId": "1cadf8ac-c64c-4b72-e63b-12aa2868f54a"
      },
      "execution_count": 51,
      "outputs": [
        {
          "output_type": "error",
          "ename": "StopIteration",
          "evalue": "ignored",
          "traceback": [
            "\u001b[0;31m---------------------------------------------------------------------------\u001b[0m",
            "\u001b[0;31mStopIteration\u001b[0m                             Traceback (most recent call last)",
            "\u001b[0;32m<ipython-input-51-18569b3b261d>\u001b[0m in \u001b[0;36m<module>\u001b[0;34m()\u001b[0m\n\u001b[0;32m----> 1\u001b[0;31m \u001b[0mmatch\u001b[0m \u001b[0;34m=\u001b[0m \u001b[0mnext\u001b[0m\u001b[0;34m(\u001b[0m\u001b[0mit\u001b[0m\u001b[0;34m)\u001b[0m\u001b[0;34m\u001b[0m\u001b[0;34m\u001b[0m\u001b[0m\n\u001b[0m",
            "\u001b[0;31mStopIteration\u001b[0m: "
          ]
        }
      ]
    },
    {
      "cell_type": "markdown",
      "source": [
        "### Modifying a string"
      ],
      "metadata": {
        "id": "Befb36BQQqoR"
      }
    },
    {
      "cell_type": "code",
      "source": [
        "# split(string, maxsplit=0)\n",
        "re.split(r\"\\n\", \"Beautiful is better than ugly.\\nExplicit is better than implicit.\")"
      ],
      "metadata": {
        "colab": {
          "base_uri": "https://localhost:8080/"
        },
        "id": "5D_22NG4QgTM",
        "outputId": "22075b22-0d21-4fc5-e89f-635cc998e725"
      },
      "execution_count": 52,
      "outputs": [
        {
          "output_type": "execute_result",
          "data": {
            "text/plain": [
              "['Beautiful is better than ugly.', 'Explicit is better than implicit.']"
            ]
          },
          "metadata": {},
          "execution_count": 52
        }
      ]
    },
    {
      "cell_type": "code",
      "source": [
        "pattern = re.compile(r\"\\W\")\n",
        "pattern.split(\"hello world\")"
      ],
      "metadata": {
        "colab": {
          "base_uri": "https://localhost:8080/"
        },
        "id": "0QKANuQ2Q-IM",
        "outputId": "56a16308-ebbb-4fc7-a8fb-c76f3871003e"
      },
      "execution_count": 53,
      "outputs": [
        {
          "output_type": "execute_result",
          "data": {
            "text/plain": [
              "['hello', 'world']"
            ]
          },
          "metadata": {},
          "execution_count": 53
        }
      ]
    },
    {
      "cell_type": "code",
      "source": [
        "pattern = re.compile(r\"\\W\")\n",
        "pattern.findall(\"hello world\")"
      ],
      "metadata": {
        "colab": {
          "base_uri": "https://localhost:8080/"
        },
        "id": "e72HWtIyRGkv",
        "outputId": "1cad6b93-e13a-4c8f-a930-6aa2bae4c487"
      },
      "execution_count": 54,
      "outputs": [
        {
          "output_type": "execute_result",
          "data": {
            "text/plain": [
              "[' ']"
            ]
          },
          "metadata": {},
          "execution_count": 54
        }
      ]
    },
    {
      "cell_type": "code",
      "source": [
        "pattern = re.compile(r\"\\W\")\n",
        "pattern.split(\"Beautiful is better than ugly\", 2)"
      ],
      "metadata": {
        "colab": {
          "base_uri": "https://localhost:8080/"
        },
        "id": "ln5zgBoKRQDq",
        "outputId": "4a45479d-950a-46d4-eb37-d45e7a9ebec2"
      },
      "execution_count": 55,
      "outputs": [
        {
          "output_type": "execute_result",
          "data": {
            "text/plain": [
              "['Beautiful', 'is', 'better than ugly']"
            ]
          },
          "metadata": {},
          "execution_count": 55
        }
      ]
    },
    {
      "cell_type": "code",
      "source": [
        "pattern = re.compile(r\"(-)\")\n",
        "pattern.split(\"hello-world\")"
      ],
      "metadata": {
        "colab": {
          "base_uri": "https://localhost:8080/"
        },
        "id": "QMSa6yxERa6F",
        "outputId": "8d2e7510-b190-4989-d4a3-a718ec7dbb2a"
      },
      "execution_count": 56,
      "outputs": [
        {
          "output_type": "execute_result",
          "data": {
            "text/plain": [
              "['hello', '-', 'world']"
            ]
          },
          "metadata": {},
          "execution_count": 56
        }
      ]
    },
    {
      "cell_type": "code",
      "source": [
        "pattern = re.compile(r\"-\")\n",
        "pattern.split(\"hello-world\")"
      ],
      "metadata": {
        "colab": {
          "base_uri": "https://localhost:8080/"
        },
        "id": "4ZVVj0ZBRnYS",
        "outputId": "393ded52-163a-4855-cb45-992b2355a94e"
      },
      "execution_count": 57,
      "outputs": [
        {
          "output_type": "execute_result",
          "data": {
            "text/plain": [
              "['hello', 'world']"
            ]
          },
          "metadata": {},
          "execution_count": 57
        }
      ]
    },
    {
      "cell_type": "code",
      "source": [
        "pattern = re.compile(r\"(\\W)\")\n",
        "pattern.split(\" hello world\")"
      ],
      "metadata": {
        "colab": {
          "base_uri": "https://localhost:8080/"
        },
        "id": "yI31RdyuRwqt",
        "outputId": "3b6f2122-ee65-41bd-8eb7-7921f3bb2c6e"
      },
      "execution_count": 58,
      "outputs": [
        {
          "output_type": "execute_result",
          "data": {
            "text/plain": [
              "['', ' ', 'hello', ' ', 'world']"
            ]
          },
          "metadata": {},
          "execution_count": 58
        }
      ]
    },
    {
      "cell_type": "code",
      "source": [
        "# sub(repl, string, count=0)\n",
        "pattern = re.compile(r\"[0-9]+\")\n",
        "pattern.sub(\"-\", \"order0 order1 order13\")"
      ],
      "metadata": {
        "colab": {
          "base_uri": "https://localhost:8080/",
          "height": 35
        },
        "id": "m16Y75tFR4xJ",
        "outputId": "0aa228e0-3413-43a9-b98c-cf9ac13d43ad"
      },
      "execution_count": 60,
      "outputs": [
        {
          "output_type": "execute_result",
          "data": {
            "application/vnd.google.colaboratory.intrinsic+json": {
              "type": "string"
            },
            "text/plain": [
              "'order- order- order-'"
            ]
          },
          "metadata": {},
          "execution_count": 60
        }
      ]
    },
    {
      "cell_type": "code",
      "source": [
        "re.sub('00', '-', 'order00000') # five 0s sub from leftmost pattern"
      ],
      "metadata": {
        "colab": {
          "base_uri": "https://localhost:8080/",
          "height": 35
        },
        "id": "l9YcbD4oSHcW",
        "outputId": "566a29ec-3407-48bc-a0fa-b6ee972bf189"
      },
      "execution_count": 62,
      "outputs": [
        {
          "output_type": "execute_result",
          "data": {
            "application/vnd.google.colaboratory.intrinsic+json": {
              "type": "string"
            },
            "text/plain": [
              "'order--0'"
            ]
          },
          "metadata": {},
          "execution_count": 62
        }
      ]
    },
    {
      "cell_type": "code",
      "source": [
        "def normalize_orders(matchobj):\n",
        "    if matchobj.group(1) == '-':return \"A\"\n",
        "    else: return \"B\"\n",
        "\n",
        "re.sub('([-|A-Z])', normalize_orders, '1234 A193 B123')"
      ],
      "metadata": {
        "colab": {
          "base_uri": "https://localhost:8080/",
          "height": 35
        },
        "id": "2YcIrYoSSXA7",
        "outputId": "fcf3eb28-b12d-4c19-df02-5defec8397ed"
      },
      "execution_count": 64,
      "outputs": [
        {
          "output_type": "execute_result",
          "data": {
            "application/vnd.google.colaboratory.intrinsic+json": {
              "type": "string"
            },
            "text/plain": [
              "'1234 B193 B123'"
            ]
          },
          "metadata": {},
          "execution_count": 64
        }
      ]
    },
    {
      "cell_type": "code",
      "source": [
        "text = \"imagine a new *world*, a magic *world*\"\n",
        "pattern = re.compile(r'\\*(.*?)\\*')\n",
        "pattern.sub(r\"<b>\\g<1><\\\\b>\", text)"
      ],
      "metadata": {
        "colab": {
          "base_uri": "https://localhost:8080/",
          "height": 35
        },
        "id": "NdpyM7ibS_Ta",
        "outputId": "7a399724-c8ed-485c-b515-6c1237d5f45b"
      },
      "execution_count": 65,
      "outputs": [
        {
          "output_type": "execute_result",
          "data": {
            "application/vnd.google.colaboratory.intrinsic+json": {
              "type": "string"
            },
            "text/plain": [
              "'imagine a new <b>world<\\\\b>, a magic <b>world<\\\\b>'"
            ]
          },
          "metadata": {},
          "execution_count": 65
        }
      ]
    },
    {
      "cell_type": "code",
      "source": [
        "text = \"imagine a new *world*, a magic *world*\"\n",
        "pattern = re.compile(r'\\*(.*?)\\*')\n",
        "pattern.sub(r\"<b>\\g<1>1<\\\\b>\", text)"
      ],
      "metadata": {
        "colab": {
          "base_uri": "https://localhost:8080/",
          "height": 35
        },
        "id": "4Tv4fSdlTkh4",
        "outputId": "2d5d3d8c-6fae-41c8-bb2b-f7be985921b9"
      },
      "execution_count": 66,
      "outputs": [
        {
          "output_type": "execute_result",
          "data": {
            "application/vnd.google.colaboratory.intrinsic+json": {
              "type": "string"
            },
            "text/plain": [
              "'imagine a new <b>world1<\\\\b>, a magic <b>world1<\\\\b>'"
            ]
          },
          "metadata": {},
          "execution_count": 66
        }
      ]
    },
    {
      "cell_type": "code",
      "source": [
        "# subn(repl, string, count=0)\n",
        "text = \"imagine a new *world*, a magic *world*\"\n",
        "pattern = re.compile(r'\\*(.*?)\\*')\n",
        "pattern.subn(r\"<b>\\g<1><\\\\b>\", text)"
      ],
      "metadata": {
        "colab": {
          "base_uri": "https://localhost:8080/"
        },
        "id": "9-Ep_4McT3ex",
        "outputId": "cf21c068-d9e4-4117-8f4c-0e0bcac1b2b9"
      },
      "execution_count": 69,
      "outputs": [
        {
          "output_type": "execute_result",
          "data": {
            "text/plain": [
              "('imagine a new <b>world<\\\\b>, a magic <b>world<\\\\b>', 2)"
            ]
          },
          "metadata": {},
          "execution_count": 69
        }
      ]
    },
    {
      "cell_type": "markdown",
      "source": [
        "### MatchObject"
      ],
      "metadata": {
        "id": "IixcQnxFUVZr"
      }
    },
    {
      "cell_type": "code",
      "source": [
        "#group([group1,...])\n",
        "pattern = re.compile(r\"(\\w+) (\\w+)\")\n",
        "match = pattern.search(\"Hello world\")"
      ],
      "metadata": {
        "id": "jlCHODhhUREa"
      },
      "execution_count": 70,
      "outputs": []
    },
    {
      "cell_type": "code",
      "source": [
        "match.group()"
      ],
      "metadata": {
        "colab": {
          "base_uri": "https://localhost:8080/",
          "height": 35
        },
        "id": "qa4kdTjiUon7",
        "outputId": "e22fceb6-e22c-459c-ad87-35ddaa791793"
      },
      "execution_count": 71,
      "outputs": [
        {
          "output_type": "execute_result",
          "data": {
            "application/vnd.google.colaboratory.intrinsic+json": {
              "type": "string"
            },
            "text/plain": [
              "'Hello world'"
            ]
          },
          "metadata": {},
          "execution_count": 71
        }
      ]
    },
    {
      "cell_type": "code",
      "source": [
        "match.group(0)"
      ],
      "metadata": {
        "colab": {
          "base_uri": "https://localhost:8080/",
          "height": 35
        },
        "id": "hjpJEc04UtSS",
        "outputId": "ff2a5831-4863-4d98-e7fb-31a4f59cf3b0"
      },
      "execution_count": 72,
      "outputs": [
        {
          "output_type": "execute_result",
          "data": {
            "application/vnd.google.colaboratory.intrinsic+json": {
              "type": "string"
            },
            "text/plain": [
              "'Hello world'"
            ]
          },
          "metadata": {},
          "execution_count": 72
        }
      ]
    },
    {
      "cell_type": "code",
      "source": [
        "match.group(1)"
      ],
      "metadata": {
        "colab": {
          "base_uri": "https://localhost:8080/",
          "height": 35
        },
        "id": "vTEmW0HnUxB2",
        "outputId": "f6cf69bd-10a5-4264-fe37-00d2043ffed6"
      },
      "execution_count": 73,
      "outputs": [
        {
          "output_type": "execute_result",
          "data": {
            "application/vnd.google.colaboratory.intrinsic+json": {
              "type": "string"
            },
            "text/plain": [
              "'Hello'"
            ]
          },
          "metadata": {},
          "execution_count": 73
        }
      ]
    },
    {
      "cell_type": "code",
      "source": [
        "match.group(2)"
      ],
      "metadata": {
        "colab": {
          "base_uri": "https://localhost:8080/",
          "height": 35
        },
        "id": "oGCaDoldUzu6",
        "outputId": "ad3e190f-7f9d-4fc6-d2f0-19312814fb82"
      },
      "execution_count": 74,
      "outputs": [
        {
          "output_type": "execute_result",
          "data": {
            "application/vnd.google.colaboratory.intrinsic+json": {
              "type": "string"
            },
            "text/plain": [
              "'world'"
            ]
          },
          "metadata": {},
          "execution_count": 74
        }
      ]
    },
    {
      "cell_type": "code",
      "source": [
        "match.group(3)"
      ],
      "metadata": {
        "colab": {
          "base_uri": "https://localhost:8080/",
          "height": 165
        },
        "id": "d2Mg3I4xU2Rk",
        "outputId": "da26b4ff-3016-4761-a9a5-37e0d0b74e5f"
      },
      "execution_count": 75,
      "outputs": [
        {
          "output_type": "error",
          "ename": "IndexError",
          "evalue": "ignored",
          "traceback": [
            "\u001b[0;31m---------------------------------------------------------------------------\u001b[0m",
            "\u001b[0;31mIndexError\u001b[0m                                Traceback (most recent call last)",
            "\u001b[0;32m<ipython-input-75-de3fb602d165>\u001b[0m in \u001b[0;36m<module>\u001b[0;34m()\u001b[0m\n\u001b[0;32m----> 1\u001b[0;31m \u001b[0mmatch\u001b[0m\u001b[0;34m.\u001b[0m\u001b[0mgroup\u001b[0m\u001b[0;34m(\u001b[0m\u001b[0;36m3\u001b[0m\u001b[0;34m)\u001b[0m\u001b[0;34m\u001b[0m\u001b[0;34m\u001b[0m\u001b[0m\n\u001b[0m",
            "\u001b[0;31mIndexError\u001b[0m: no such group"
          ]
        }
      ]
    },
    {
      "cell_type": "code",
      "source": [
        "match.group(0, 2)"
      ],
      "metadata": {
        "colab": {
          "base_uri": "https://localhost:8080/"
        },
        "id": "rfP6rUaYU3nS",
        "outputId": "9508c335-95ea-4e0c-c5bd-f866fe06daa4"
      },
      "execution_count": 76,
      "outputs": [
        {
          "output_type": "execute_result",
          "data": {
            "text/plain": [
              "('Hello world', 'world')"
            ]
          },
          "metadata": {},
          "execution_count": 76
        }
      ]
    },
    {
      "cell_type": "code",
      "source": [
        "pattern = re.compile(r\"(?P<first>\\w+) (?P<second>\\w+)\")"
      ],
      "metadata": {
        "id": "nUuCCL2lU6uV"
      },
      "execution_count": 78,
      "outputs": []
    },
    {
      "cell_type": "code",
      "source": [
        "match = pattern.search(\"Hello world\")\n",
        "match.group('first')"
      ],
      "metadata": {
        "colab": {
          "base_uri": "https://localhost:8080/",
          "height": 35
        },
        "id": "49-INcY1VK41",
        "outputId": "86fcaf14-cc78-4857-f286-defd36008415"
      },
      "execution_count": 80,
      "outputs": [
        {
          "output_type": "execute_result",
          "data": {
            "application/vnd.google.colaboratory.intrinsic+json": {
              "type": "string"
            },
            "text/plain": [
              "'Hello'"
            ]
          },
          "metadata": {},
          "execution_count": 80
        }
      ]
    },
    {
      "cell_type": "code",
      "source": [
        "match.group(1)"
      ],
      "metadata": {
        "colab": {
          "base_uri": "https://localhost:8080/",
          "height": 35
        },
        "id": "00GE7WS8VWUR",
        "outputId": "cc77f3a7-80fc-4804-950a-113bdb87c68d"
      },
      "execution_count": 81,
      "outputs": [
        {
          "output_type": "execute_result",
          "data": {
            "application/vnd.google.colaboratory.intrinsic+json": {
              "type": "string"
            },
            "text/plain": [
              "'Hello'"
            ]
          },
          "metadata": {},
          "execution_count": 81
        }
      ]
    },
    {
      "cell_type": "code",
      "source": [
        "match.group(0, 'first', 2)"
      ],
      "metadata": {
        "colab": {
          "base_uri": "https://localhost:8080/"
        },
        "id": "tHAw8WICVeGp",
        "outputId": "4cedb5ac-1ef5-473b-8242-28ef0fa7f6ff"
      },
      "execution_count": 82,
      "outputs": [
        {
          "output_type": "execute_result",
          "data": {
            "text/plain": [
              "('Hello world', 'Hello', 'world')"
            ]
          },
          "metadata": {},
          "execution_count": 82
        }
      ]
    },
    {
      "cell_type": "code",
      "source": [
        "# groups([default])\n",
        "pattern = re.compile(\"(\\w+) (\\w+)\")\n",
        "match = pattern.search(\"Hello world\")\n",
        "match.groups()"
      ],
      "metadata": {
        "colab": {
          "base_uri": "https://localhost:8080/"
        },
        "id": "3quupxRFVh8r",
        "outputId": "61c249cb-f771-4eba-8799-ac32462048b0"
      },
      "execution_count": 84,
      "outputs": [
        {
          "output_type": "execute_result",
          "data": {
            "text/plain": [
              "('Hello', 'world')"
            ]
          },
          "metadata": {},
          "execution_count": 84
        }
      ]
    },
    {
      "cell_type": "code",
      "source": [
        "pattern = re.compile(\"(\\w+) (\\w+)?\")\n",
        "match = pattern.search(\"Hello \")\n",
        "match.groups(\"mundo\")"
      ],
      "metadata": {
        "colab": {
          "base_uri": "https://localhost:8080/"
        },
        "id": "JoZbmplsVzZX",
        "outputId": "0447cf62-ef46-4400-8e18-9863f539178f"
      },
      "execution_count": 85,
      "outputs": [
        {
          "output_type": "execute_result",
          "data": {
            "text/plain": [
              "('Hello', 'mundo')"
            ]
          },
          "metadata": {},
          "execution_count": 85
        }
      ]
    },
    {
      "cell_type": "code",
      "source": [
        "match.groups()"
      ],
      "metadata": {
        "colab": {
          "base_uri": "https://localhost:8080/"
        },
        "id": "N7YrJEYTWKnN",
        "outputId": "12d8bfb2-be3e-46ab-d07e-9b0d4a336b70"
      },
      "execution_count": 86,
      "outputs": [
        {
          "output_type": "execute_result",
          "data": {
            "text/plain": [
              "('Hello', None)"
            ]
          },
          "metadata": {},
          "execution_count": 86
        }
      ]
    },
    {
      "cell_type": "code",
      "source": [
        ""
      ],
      "metadata": {
        "id": "89YGKnvvWNBF"
      },
      "execution_count": null,
      "outputs": []
    }
  ]
}